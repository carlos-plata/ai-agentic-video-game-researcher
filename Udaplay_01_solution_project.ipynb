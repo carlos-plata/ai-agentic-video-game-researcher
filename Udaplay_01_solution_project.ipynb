{
 "cells": [
  {
   "cell_type": "markdown",
   "metadata": {},
   "source": [
    "# [SOLUTION] Udaplay Project"
   ]
  },
  {
   "cell_type": "markdown",
   "metadata": {},
   "source": [
    "## Part 01 - Offline RAG\n",
    "\n",
    "In this part of the project, you'll build your VectorDB using Chroma.\n",
    "\n",
    "The data is inside folder `games`. Each file will become a document in the collection you'll create.\n",
    "Example.:\n",
    "```json\n",
    "{\n",
    "  \"Name\": \"Gran Turismo\",\n",
    "  \"Platform\": \"PlayStation 1\",\n",
    "  \"Genre\": \"Racing\",\n",
    "  \"Publisher\": \"Sony Computer Entertainment\",\n",
    "  \"Description\": \"A realistic racing simulator featuring a wide array of cars and tracks, setting a new standard for the genre.\",\n",
    "  \"YearOfRelease\": 1997\n",
    "}\n",
    "```"
   ]
  },
  {
   "cell_type": "markdown",
   "metadata": {},
   "source": [
    "### Setup"
   ]
  },
  {
   "cell_type": "code",
   "execution_count": null,
   "metadata": {},
   "outputs": [],
   "source": [
    "# Only needed for Udacity workspace\n",
    "\n",
    "import importlib.util\n",
    "import sys\n",
    "\n",
    "# Check if 'pysqlite3' is available before importing\n",
    "if importlib.util.find_spec(\"pysqlite3\") is not None:\n",
    "    import pysqlite3\n",
    "    sys.modules['sqlite3'] = sys.modules.pop('pysqlite3')"
   ]
  },
  {
   "cell_type": "code",
   "execution_count": null,
   "metadata": {},
   "outputs": [],
   "source": "import os\nimport json\nimport chromadb\nfrom chromadb.utils import embedding_functions\nfrom dotenv import load_dotenv\nfrom typing import Dict, List, Any, Optional"
  },
  {
   "cell_type": "code",
   "execution_count": null,
   "metadata": {},
   "outputs": [],
   "source": "# Load environment variables\nload_dotenv()\n\n# Verify API keys are loaded\nOPENAI_API_KEY = os.getenv(\"OPENAI_API_KEY\")\nTAVILY_API_KEY = os.getenv(\"TAVILY_API_KEY\")\n\nif not OPENAI_API_KEY:\n    raise ValueError(\"Please set OPENAI_API_KEY in .env file\")\n\nprint(\"✅ Environment variables loaded successfully\")"
  },
  {
   "cell_type": "markdown",
   "metadata": {},
   "source": [
    "### VectorDB Instance"
   ]
  },
  {
   "cell_type": "code",
   "execution_count": null,
   "metadata": {},
   "outputs": [],
   "source": "# Instantiate ChromaDB Client - Simplest approach\nimport chromadb\n\n# Create client without persistence (in-memory only)\nchroma_client = chromadb.Client()\nprint(\"✅ ChromaDB client initialized (in-memory mode)\")"
  },
  {
   "cell_type": "markdown",
   "metadata": {},
   "source": [
    "### Collection"
   ]
  },
  {
   "cell_type": "code",
   "execution_count": null,
   "metadata": {},
   "outputs": [],
   "source": "# Skip embedding function setup - using default\nprint(\"✅ Using default SentenceTransformer embeddings\")"
  },
  {
   "cell_type": "code",
   "execution_count": null,
   "metadata": {},
   "outputs": [],
   "source": "# Create collection\nCOLLECTION_NAME = \"udaplay_games\"\n\n# Create new collection (using default embeddings)\ncollection = chroma_client.create_collection(name=COLLECTION_NAME)\nprint(f\"✅ Created collection '{COLLECTION_NAME}'\")"
  },
  {
   "cell_type": "markdown",
   "metadata": {},
   "source": [
    "### Add documents"
   ]
  },
  {
   "cell_type": "code",
   "execution_count": null,
   "metadata": {},
   "outputs": [],
   "source": "# Load and add game documents\ndata_dir = \"games\"\ndocuments_added = 0\nbatch_size = 5  # Process in batches to avoid issues\n\n# Process each game file\ngame_files = sorted([f for f in os.listdir(data_dir) if f.endswith(\".json\")])\nprint(f\"Found {len(game_files)} game files to process\")\n\n# Prepare batch data\nids_batch = []\ndocuments_batch = []\nmetadatas_batch = []\n\nfor file_name in game_files:\n    file_path = os.path.join(data_dir, file_name)\n    \n    try:\n        # Load game data\n        with open(file_path, \"r\", encoding=\"utf-8\") as f:\n            game = json.load(f)\n        \n        # Create content for indexing\n        content = (\n            f\"{game['Name']} is a {game.get('Genre', 'game')} game \"\n            f\"released in {game['YearOfRelease']} for {game['Platform']}. \"\n            f\"Published by {game.get('Publisher', 'Unknown')}. \"\n            f\"{game['Description']}\"\n        )\n        \n        # Add to batch\n        doc_id = os.path.splitext(file_name)[0]\n        ids_batch.append(doc_id)\n        documents_batch.append(content)\n        metadatas_batch.append(game)\n        \n        # Process batch when full\n        if len(ids_batch) >= batch_size:\n            collection.add(\n                ids=ids_batch,\n                documents=documents_batch,\n                metadatas=metadatas_batch\n            )\n            documents_added += len(ids_batch)\n            print(f\"  Processed {documents_added} documents...\")\n            \n            # Clear batch\n            ids_batch = []\n            documents_batch = []\n            metadatas_batch = []\n            \n    except Exception as e:\n        print(f\"Error processing {file_name}: {e}\")\n\n# Process remaining documents\nif ids_batch:\n    collection.add(\n        ids=ids_batch,\n        documents=documents_batch,\n        metadatas=metadatas_batch\n    )\n    documents_added += len(ids_batch)\n\nprint(f\"✅ Successfully added {documents_added} documents to collection\")"
  },
  {
   "cell_type": "markdown",
   "metadata": {},
   "source": [
    "### Demonstrate Semantic Search"
   ]
  },
  {
   "cell_type": "code",
   "execution_count": null,
   "metadata": {},
   "outputs": [],
   "source": "def semantic_search(query: str, n_results: int = 5) -> List[Dict[str, Any]]:\n    \"\"\"Perform semantic search on the game collection.\n    \n    Args:\n        query: Search query\n        n_results: Number of results to return\n        \n    Returns:\n        List of search results with metadata\n    \"\"\"\n    try:\n        results = collection.query(\n            query_texts=[query],\n            n_results=n_results\n        )\n        \n        # Format results\n        formatted_results = []\n        for i in range(len(results['ids'][0])):\n            formatted_results.append({\n                'id': results['ids'][0][i],\n                'content': results['documents'][0][i],\n                'metadata': results['metadatas'][0][i],\n                'distance': results['distances'][0][i] if 'distances' in results else None\n            })\n        \n        return formatted_results\n        \n    except Exception as e:\n        print(f\"Search failed: {e}\")\n        return []"
  },
  {
   "cell_type": "code",
   "execution_count": null,
   "metadata": {},
   "outputs": [],
   "source": [
    "# Demonstrate semantic search capabilities\n",
    "test_queries = [\n",
    "    \"racing games\",\n",
    "    \"games released in 2020\",\n",
    "    \"Nintendo games\",\n",
    "    \"RPG adventures\"\n",
    "]\n",
    "\n",
    "print(\"🔍 Demonstrating Semantic Search Capabilities\\n\")\n",
    "print(\"=\" * 60)\n",
    "\n",
    "for query in test_queries:\n",
    "    print(f\"\\n📝 Query: '{query}'\")\n",
    "    print(\"-\" * 40)\n",
    "    \n",
    "    results = semantic_search(query, n_results=3)\n",
    "    \n",
    "    if results:\n",
    "        for i, result in enumerate(results, 1):\n",
    "            metadata = result['metadata']\n",
    "            print(f\"\\n  {i}. {metadata.get('Name', 'Unknown')} ({metadata.get('YearOfRelease', 'N/A')})\")\n",
    "            print(f\"     Platform: {metadata.get('Platform', 'Unknown')}\")\n",
    "            print(f\"     Genre: {metadata.get('Genre', 'Unknown')}\")\n",
    "            if result['distance']:\n",
    "                print(f\"     Relevance Score: {1 - result['distance']:.2%}\")\n",
    "    else:\n",
    "        print(\"  No results found\")\n",
    "\n",
    "print(\"\\n\" + \"=\" * 60)\n",
    "print(\"✅ Vector database is ready for the agent!\")"
   ]
  },
  {
   "cell_type": "markdown",
   "metadata": {},
   "source": [
    "### Production Features"
   ]
  },
  {
   "cell_type": "code",
   "execution_count": null,
   "metadata": {},
   "outputs": [],
   "source": "# Collection management utilities\ndef get_collection_stats() -> Dict[str, Any]:\n    \"\"\"Get detailed statistics about the collection.\"\"\"\n    try:\n        # Get all documents\n        all_docs = collection.get()\n        \n        # Analyze metadata\n        platforms = {}\n        years = {}\n        genres = {}\n        \n        for metadata in all_docs['metadatas']:\n            # Count platforms\n            platform = metadata.get('Platform', 'Unknown')\n            platforms[platform] = platforms.get(platform, 0) + 1\n            \n            # Count years\n            year = metadata.get('YearOfRelease', 'Unknown')\n            years[str(year)] = years.get(str(year), 0) + 1\n            \n            # Count genres\n            genre = metadata.get('Genre', 'Unknown')\n            genres[genre] = genres.get(genre, 0) + 1\n        \n        return {\n            'total_documents': collection.count(),\n            'platforms': dict(sorted(platforms.items(), key=lambda x: x[1], reverse=True)),\n            'years': dict(sorted(years.items())),\n            'genres': dict(sorted(genres.items(), key=lambda x: x[1], reverse=True))\n        }\n        \n    except Exception as e:\n        print(f\"Failed to get stats: {e}\")\n        return {}\n\n# Display collection statistics\nstats = get_collection_stats()\nif stats:\n    print(\"\\n📈 Collection Statistics:\")\n    print(f\"  Total Games: {stats['total_documents']}\")\n    print(f\"  Unique Platforms: {len(stats['platforms'])}\")\n    print(f\"  Year Range: {min(stats['years'].keys())} - {max(stats['years'].keys())}\")\n    print(f\"  Genres: {', '.join(list(stats['genres'].keys())[:5])}...\")"
  }
 ],
 "metadata": {
  "kernelspec": {
   "display_name": "Python 3",
   "language": "python",
   "name": "python3"
  },
  "language_info": {
   "codemirror_mode": {
    "name": "ipython",
    "version": 3
   },
   "file_extension": ".py",
   "mimetype": "text/x-python",
   "name": "python",
   "nbconvert_exporter": "python",
   "pygments_lexer": "ipython3",
   "version": "3.10.0"
  }
 },
 "nbformat": 4,
 "nbformat_minor": 4
}